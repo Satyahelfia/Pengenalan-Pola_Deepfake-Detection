{
  "nbformat": 4,
  "nbformat_minor": 0,
  "metadata": {
    "colab": {
      "provenance": []
    },
    "kernelspec": {
      "name": "python3",
      "display_name": "Python 3"
    },
    "language_info": {
      "name": "python"
    }
  },
  "cells": [
    {
      "cell_type": "code",
      "source": [
        "import matplotlib.pyplot as plt\n",
        "import numpy as np\n",
        "import os\n",
        "import PIL\n",
        "import tensorflow as tf"
      ],
      "metadata": {
        "id": "Jp1ow0X_1NoK"
      },
      "execution_count": null,
      "outputs": []
    },
    {
      "cell_type": "code",
      "source": [
        "from  google.colab import drive\n",
        "drive.mount('/content/drive')"
      ],
      "metadata": {
        "colab": {
          "base_uri": "https://localhost:8080/"
        },
        "id": "S7vuvQMA1O1F",
        "outputId": "5b933bf5-716e-41b7-fc89-3770a6bbeaa8"
      },
      "execution_count": null,
      "outputs": [
        {
          "output_type": "stream",
          "name": "stdout",
          "text": [
            "Drive already mounted at /content/drive; to attempt to forcibly remount, call drive.mount(\"/content/drive\", force_remount=True).\n"
          ]
        }
      ]
    },
    {
      "cell_type": "code",
      "source": [
        "# use ImageDataGenerator for data augmentation\n",
        "from tensorflow.keras.preprocessing.image import ImageDataGenerator\n",
        "\n",
        "train_dir = '/content/drive/MyDrive/Dataset Pengenalan Pola/Data Train'\n",
        "valid_dir = '/content/drive/MyDrive/Dataset Pengenalan Pola/Data Test'\n",
        "\n",
        "# Add data-augmentation parameters to ImageDataGenerator\n",
        "train_datagen = ImageDataGenerator(rescale = 1./255, # rescale to normalize the data\n",
        "                                   rotation_range = 40,\n",
        "                                   width_shift_range = 0.1,\n",
        "                                   height_shift_range = 0.1,\n",
        "                                   shear_range = 0.1,\n",
        "                                   zoom_range = 0.1,\n",
        "                                   horizontal_flip = True,\n",
        "                                   vertical_flip = True)\n",
        "\n",
        "valid_datagen = ImageDataGenerator( rescale = 1.0/255 )\n",
        "\n",
        "\n",
        "train_generator = train_datagen.flow_from_directory(train_dir,\n",
        "                                                    class_mode = 'categorical',\n",
        "                                                    target_size = (224, 224))\n",
        "\n",
        "\n",
        "validation_generator =  valid_datagen.flow_from_directory(valid_dir,\n",
        "                                                          class_mode  = 'categorical',\n",
        "                                                          target_size = (224, 224))"
      ],
      "metadata": {
        "id": "UV2LqZkG1Ysf",
        "colab": {
          "base_uri": "https://localhost:8080/"
        },
        "outputId": "86abd1e9-a7e9-47b5-cca3-3c1b60e63b60"
      },
      "execution_count": null,
      "outputs": [
        {
          "output_type": "stream",
          "name": "stdout",
          "text": [
            "Found 912 images belonging to 2 classes.\n",
            "Found 176 images belonging to 2 classes.\n"
          ]
        }
      ]
    },
    {
      "cell_type": "code",
      "source": [
        "import tensorflow as tf\n",
        "import tensorflow_hub as hub\n",
        "\n",
        "# recommended input image size = (224,224,3)\n",
        "mobilenetv2_140 = \"https://www.kaggle.com/models/google/mobilenet-v2/frameworks/TensorFlow2/variations/140-224-feature-vector/versions/2\"\n",
        "\n",
        "feature_extractor_model = mobilenetv2_140"
      ],
      "metadata": {
        "id": "g5srbsXVVIxr"
      },
      "execution_count": null,
      "outputs": []
    },
    {
      "cell_type": "code",
      "source": [
        "# load the pre-trained model\n",
        "feature_extractor_layer = hub.KerasLayer(\n",
        "    feature_extractor_model,\n",
        "    input_shape=(224, 224, 3),\n",
        "    trainable=True)"
      ],
      "metadata": {
        "id": "pzSRWVmKVMVf"
      },
      "execution_count": null,
      "outputs": []
    },
    {
      "cell_type": "code",
      "source": [
        "num_classes = 2\n",
        "\n",
        "model = tf.keras.Sequential([\n",
        "  feature_extractor_layer,\n",
        "  tf.keras.layers.Dense(512, activation='relu'),\n",
        "  tf.keras.layers.Dropout(0.2),\n",
        "  tf.keras.layers.Dense(1024, activation='relu'),\n",
        "  tf.keras.layers.Dropout(0.2),\n",
        "  tf.keras.layers.Dense(num_classes, activation='softmax')\n",
        "])\n",
        "\n",
        "model.summary()"
      ],
      "metadata": {
        "colab": {
          "base_uri": "https://localhost:8080/"
        },
        "id": "18lM9bXBVOCm",
        "outputId": "abe3b290-2c7e-4294-a3a8-e6c5dbaf8efc"
      },
      "execution_count": null,
      "outputs": [
        {
          "output_type": "stream",
          "name": "stdout",
          "text": [
            "Model: \"sequential\"\n",
            "_________________________________________________________________\n",
            " Layer (type)                Output Shape              Param #   \n",
            "=================================================================\n",
            " keras_layer (KerasLayer)    (None, 1792)              4363712   \n",
            "                                                                 \n",
            " dense (Dense)               (None, 512)               918016    \n",
            "                                                                 \n",
            " dropout (Dropout)           (None, 512)               0         \n",
            "                                                                 \n",
            " dense_1 (Dense)             (None, 1024)              525312    \n",
            "                                                                 \n",
            " dropout_1 (Dropout)         (None, 1024)              0         \n",
            "                                                                 \n",
            " dense_2 (Dense)             (None, 2)                 2050      \n",
            "                                                                 \n",
            "=================================================================\n",
            "Total params: 5809090 (22.16 MB)\n",
            "Trainable params: 5761154 (21.98 MB)\n",
            "Non-trainable params: 47936 (187.25 KB)\n",
            "_________________________________________________________________\n"
          ]
        }
      ]
    },
    {
      "cell_type": "code",
      "source": [
        "# create checkpoint to save best weights\n",
        "checkpoint_path='model/my_checkpoint.ckpt'\n",
        "\n",
        "checkpoint = tf.keras.callbacks.ModelCheckpoint(checkpoint_path,\n",
        "                             save_weights_only=True,\n",
        "                             save_best_only=True,\n",
        "                             monitor='val_loss',\n",
        "                             verbose=1,\n",
        "                             )"
      ],
      "metadata": {
        "id": "5erwRvJqVRhG"
      },
      "execution_count": null,
      "outputs": []
    },
    {
      "cell_type": "code",
      "source": [
        "# Set the training parameters\n",
        "\n",
        "optimizer=tf.keras.optimizers.SGD(learning_rate=1e-3, momentum=0.9)\n",
        "#optimizer=tf.keras.optimizers.Adam(learning_rate=3e-5)\n",
        "#optimizer=tf.keras.optimizers.RMSprop(learning_rate=1e-3, momentum=0.9)\n",
        "\n",
        "model.compile(optimizer = optimizer ,\n",
        "              loss = 'categorical_crossentropy',\n",
        "              metrics = ['accuracy'])"
      ],
      "metadata": {
        "id": "x-ulPuKjVuOx"
      },
      "execution_count": null,
      "outputs": []
    },
    {
      "cell_type": "code",
      "source": [
        "# Train the model.\n",
        "history = model.fit(\n",
        "            train_generator,\n",
        "            validation_data = validation_generator,\n",
        "            epochs = 10,\n",
        "            callbacks=[checkpoint],\n",
        "            verbose = 2,\n",
        "            )"
      ],
      "metadata": {
        "colab": {
          "base_uri": "https://localhost:8080/"
        },
        "id": "W53dZoOQVw6f",
        "outputId": "4ebe95db-c776-4f68-f7cc-f12ce4bdc251"
      },
      "execution_count": 9,
      "outputs": [
        {
          "output_type": "stream",
          "name": "stdout",
          "text": [
            "Epoch 1/10\n",
            "\n",
            "Epoch 1: val_loss improved from inf to 0.54308, saving model to model/my_checkpoint.ckpt\n",
            "29/29 - 411s - loss: 0.6135 - accuracy: 0.7336 - val_loss: 0.5431 - val_accuracy: 0.7955 - 411s/epoch - 14s/step\n",
            "Epoch 2/10\n",
            "\n",
            "Epoch 2: val_loss improved from 0.54308 to 0.53088, saving model to model/my_checkpoint.ckpt\n",
            "29/29 - 329s - loss: 0.2180 - accuracy: 0.9803 - val_loss: 0.5309 - val_accuracy: 0.8182 - 329s/epoch - 11s/step\n",
            "Epoch 3/10\n",
            "\n",
            "Epoch 3: val_loss improved from 0.53088 to 0.32211, saving model to model/my_checkpoint.ckpt\n",
            "29/29 - 320s - loss: 0.1293 - accuracy: 0.9956 - val_loss: 0.3221 - val_accuracy: 0.8977 - 320s/epoch - 11s/step\n",
            "Epoch 4/10\n",
            "\n",
            "Epoch 4: val_loss improved from 0.32211 to 0.19401, saving model to model/my_checkpoint.ckpt\n",
            "29/29 - 332s - loss: 0.1127 - accuracy: 0.9934 - val_loss: 0.1940 - val_accuracy: 0.9489 - 332s/epoch - 11s/step\n",
            "Epoch 5/10\n",
            "\n",
            "Epoch 5: val_loss improved from 0.19401 to 0.12365, saving model to model/my_checkpoint.ckpt\n",
            "29/29 - 321s - loss: 0.1028 - accuracy: 0.9989 - val_loss: 0.1237 - val_accuracy: 0.9943 - 321s/epoch - 11s/step\n",
            "Epoch 6/10\n",
            "\n",
            "Epoch 6: val_loss improved from 0.12365 to 0.09737, saving model to model/my_checkpoint.ckpt\n",
            "29/29 - 328s - loss: 0.1035 - accuracy: 0.9967 - val_loss: 0.0974 - val_accuracy: 1.0000 - 328s/epoch - 11s/step\n",
            "Epoch 7/10\n",
            "\n",
            "Epoch 7: val_loss improved from 0.09737 to 0.09424, saving model to model/my_checkpoint.ckpt\n",
            "29/29 - 318s - loss: 0.1023 - accuracy: 0.9967 - val_loss: 0.0942 - val_accuracy: 1.0000 - 318s/epoch - 11s/step\n",
            "Epoch 8/10\n",
            "\n",
            "Epoch 8: val_loss improved from 0.09424 to 0.09200, saving model to model/my_checkpoint.ckpt\n",
            "29/29 - 333s - loss: 0.1056 - accuracy: 0.9934 - val_loss: 0.0920 - val_accuracy: 1.0000 - 333s/epoch - 11s/step\n",
            "Epoch 9/10\n",
            "\n",
            "Epoch 9: val_loss improved from 0.09200 to 0.09073, saving model to model/my_checkpoint.ckpt\n",
            "29/29 - 321s - loss: 0.1051 - accuracy: 0.9978 - val_loss: 0.0907 - val_accuracy: 1.0000 - 321s/epoch - 11s/step\n",
            "Epoch 10/10\n",
            "\n",
            "Epoch 10: val_loss did not improve from 0.09073\n",
            "29/29 - 330s - loss: 0.1009 - accuracy: 0.9978 - val_loss: 0.0908 - val_accuracy: 1.0000 - 330s/epoch - 11s/step\n"
          ]
        }
      ]
    },
    {
      "cell_type": "code",
      "source": [
        "# see training plot\n",
        "\n",
        "import matplotlib.pyplot as plt\n",
        "acc = history.history['accuracy']\n",
        "val_acc = history.history['val_accuracy']\n",
        "loss = history.history['loss']\n",
        "val_loss = history.history['val_loss']\n",
        "\n",
        "epochs = range(len(acc))\n",
        "\n",
        "plt.plot(epochs, acc, 'r', label='Training accuracy')\n",
        "plt.plot(epochs, val_acc, 'b', label='Validation accuracy')\n",
        "plt.title('Training and validation accuracy')\n",
        "plt.legend(loc=0)\n",
        "plt.figure()\n",
        "\n",
        "\n",
        "plt.show()"
      ],
      "metadata": {
        "id": "eOYC1BvuV0Bb",
        "colab": {
          "base_uri": "https://localhost:8080/",
          "height": 469
        },
        "outputId": "18735ed4-30a3-4db8-c1f6-47c5a5b93244"
      },
      "execution_count": 10,
      "outputs": [
        {
          "output_type": "display_data",
          "data": {
            "text/plain": [
              "<Figure size 640x480 with 1 Axes>"
            ],
            "image/png": "[encoded data removed]"
          },
          "metadata": {}
        },
        {
          "output_type": "display_data",
          "data": {
            "text/plain": [
              "<Figure size 640x480 with 0 Axes>"
            ]
          },
          "metadata": {}
        }
      ]
    }
  ]
}